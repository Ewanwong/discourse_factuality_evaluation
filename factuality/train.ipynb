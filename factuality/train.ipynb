{
 "cells": [
  {
   "cell_type": "code",
   "execution_count": 3,
   "metadata": {},
   "outputs": [],
   "source": [
    "from my_model import RAEBaseModel\n",
    "from my_model_utils import set_random_seed, load_and_cache_examples_train, load_and_cache_examples_dev\n",
    "from transformers import AutoConfig, LongformerTokenizer, AdamW, get_scheduler\n",
    "import torch\n",
    "import torch.nn as nn\n",
    "from tqdm import tqdm\n",
    "\n",
    "\n",
    "\n",
    "def train(model, train_dataloader, optimizer, lr_scheduler, loss_fn, epochs, eval_steps):\n",
    "    step = 0\n",
    "    losses = []\n",
    "    for epoch in range(epochs):\n",
    "\n",
    "        model.train()\n",
    "        \n",
    "        \n",
    "        \n",
    "        for data in tqdm(train_dataloader):\n",
    "            data = tuple([i.to(model.device) for i in data])\n",
    "            sent_ids, input_ids, input_attention_mask, input_token_ids, child_start_indices, child_end_indices, head_start_indices, head_end_indices, dep_labels, arcs, sentence_label = data\n",
    "            \n",
    "            print(sent_ids)\n",
    "            print(sent_ids.shape)\n",
    "            \n",
    "            #feature['input_tree'] = feature['input_tree'].requires_grad()\n",
    "            #feature['context_tree'] = feature['context_tree'].requires_grad()\n",
    "            \n",
    "            \n",
    "            output = model(input_ids, input_attention_mask, input_token_ids, child_start_indices, child_end_indices, head_start_indices, head_end_indices, arcs)\n",
    "            \n",
    "            loss = loss_fn(output, dep_labels)\n",
    "            if torch.isnan(loss).any() or torch.isinf(loss).any():\n",
    "                print(\"inf or nan in examples\")\n",
    "                continue\n",
    "            step  +=  1\n",
    "            \n",
    "            loss.backward()\n",
    "            optimizer.step()\n",
    "            lr_scheduler.step()\n",
    "            optimizer.zero_grad()\n",
    "                \n",
    "            \n",
    "            losses.append(loss.item())\n",
    "\n",
    "            # loss.backward()\n",
    "\n",
    "            \n",
    "            \n",
    "            if (step + 1) % eval_steps == 0:\n",
    "            \n",
    "                print(\"\\n==========================================EVALUATION_RESULTS===============================\")\n",
    "                print(\"training loss:\")\n",
    "                print(sum(losses)/len(losses))"
   ]
  },
  {
   "cell_type": "code",
   "execution_count": 4,
   "metadata": {},
   "outputs": [
    {
     "name": "stderr",
     "output_type": "stream",
     "text": [
      "Some weights of the model checkpoint at allenai/longformer-base-4096 were not used when initializing LongformerModel: ['lm_head.dense.bias', 'lm_head.layer_norm.weight', 'lm_head.decoder.weight', 'lm_head.bias', 'lm_head.dense.weight', 'lm_head.layer_norm.bias']\n",
      "- This IS expected if you are initializing LongformerModel from the checkpoint of a model trained on another task or with another architecture (e.g. initializing a BertForSequenceClassification model from a BertForPreTraining model).\n",
      "- This IS NOT expected if you are initializing LongformerModel from the checkpoint of a model that you expect to be exactly identical (initializing a BertForSequenceClassification model from a BertForSequenceClassification model).\n"
     ]
    }
   ],
   "source": [
    "config = AutoConfig.from_pretrained('allenai/longformer-base-4096')\n",
    "model = RAEBaseModel(config)\n",
    "device = torch.device('cuda')\n",
    "tokenizer = LongformerTokenizer.from_pretrained('allenai/longformer-base-4096')\n",
    "\n"
   ]
  },
  {
   "cell_type": "code",
   "execution_count": 5,
   "metadata": {},
   "outputs": [],
   "source": [
    "data_path = '../cnndm_generation_rst_parsed_train.json'\n",
    "feature_path = '../my_model_cnndm_train.pt'\n",
    "# dev_feature_path = '../xsum_generation_rst_parsed_dev_dev.pt'\n",
    "model = model.to(device)\n",
    "\n",
    "train_dataset = load_and_cache_examples_train(data_path, feature_path, 2048, tokenizer)"
   ]
  },
  {
   "cell_type": "code",
   "execution_count": 6,
   "metadata": {},
   "outputs": [
    {
     "name": "stderr",
     "output_type": "stream",
     "text": [
      "  0%|          | 0/27 [00:00<?, ?it/s]"
     ]
    },
    {
     "name": "stdout",
     "output_type": "stream",
     "text": [
      "tensor([ 33, 105,  87,  80,  17, 145,  88,   1], device='cuda:0')\n",
      "torch.Size([8])\n"
     ]
    },
    {
     "name": "stderr",
     "output_type": "stream",
     "text": [
      "  4%|▎         | 1/27 [00:03<01:21,  3.13s/it]"
     ]
    },
    {
     "name": "stdout",
     "output_type": "stream",
     "text": [
      "tensor([ 40,  81, 148,  34,  33, 149,  25,   1], device='cuda:0')\n",
      "torch.Size([8])\n"
     ]
    },
    {
     "name": "stderr",
     "output_type": "stream",
     "text": [
      "  7%|▋         | 2/27 [00:05<01:11,  2.85s/it]"
     ]
    },
    {
     "name": "stdout",
     "output_type": "stream",
     "text": [
      "tensor([ 10,  54,  53,  15,  29,  65,  21, 118], device='cuda:0')\n",
      "torch.Size([8])\n"
     ]
    },
    {
     "name": "stderr",
     "output_type": "stream",
     "text": [
      " 11%|█         | 3/27 [00:07<01:03,  2.64s/it]"
     ]
    },
    {
     "name": "stdout",
     "output_type": "stream",
     "text": [
      "tensor([ 36,  90, 102,  31, 156,  44,  77, 150], device='cuda:0')\n",
      "torch.Size([8])\n"
     ]
    },
    {
     "name": "stderr",
     "output_type": "stream",
     "text": [
      " 15%|█▍        | 4/27 [00:09<00:57,  2.49s/it]"
     ]
    },
    {
     "name": "stdout",
     "output_type": "stream",
     "text": [
      "\n",
      "==========================================EVALUATION_RESULTS===============================\n",
      "training loss:\n",
      "0.794073611497879\n",
      "tensor([100, 116, 115,  81,  76,  95, 156, 103], device='cuda:0')\n",
      "torch.Size([8])\n"
     ]
    },
    {
     "name": "stderr",
     "output_type": "stream",
     "text": [
      " 19%|█▊        | 5/27 [00:11<00:52,  2.41s/it]"
     ]
    },
    {
     "name": "stdout",
     "output_type": "stream",
     "text": [
      "tensor([ 80,  92,  22, 106,  48,  76,  54,  28], device='cuda:0')\n",
      "torch.Size([8])\n"
     ]
    },
    {
     "ename": "KeyboardInterrupt",
     "evalue": "",
     "output_type": "error",
     "traceback": [
      "\u001b[0;31m---------------------------------------------------------------------------\u001b[0m",
      "\u001b[0;31mKeyboardInterrupt\u001b[0m                         Traceback (most recent call last)",
      "\u001b[1;32m/home/CE/yifwang/discourse_factuality_evaluation/factuality/train.ipynb Cell 4\u001b[0m in \u001b[0;36m<cell line: 10>\u001b[0;34m()\u001b[0m\n\u001b[1;32m      <a href='vscode-notebook-cell://ssh-remote%2Btony-3/home/CE/yifwang/discourse_factuality_evaluation/factuality/train.ipynb#W3sdnNjb2RlLXJlbW90ZQ%3D%3D?line=5'>6</a>\u001b[0m lr_scheduler \u001b[39m=\u001b[39m get_scheduler(\n\u001b[1;32m      <a href='vscode-notebook-cell://ssh-remote%2Btony-3/home/CE/yifwang/discourse_factuality_evaluation/factuality/train.ipynb#W3sdnNjb2RlLXJlbW90ZQ%3D%3D?line=6'>7</a>\u001b[0m         name\u001b[39m=\u001b[39m\u001b[39m\"\u001b[39m\u001b[39mlinear\u001b[39m\u001b[39m\"\u001b[39m, optimizer\u001b[39m=\u001b[39moptimizer, num_warmup_steps\u001b[39m=\u001b[39m\u001b[39m500\u001b[39m, num_training_steps\u001b[39m=\u001b[39m\u001b[39m5\u001b[39m \u001b[39m*\u001b[39m \u001b[39mlen\u001b[39m(train_dataset)\n\u001b[1;32m      <a href='vscode-notebook-cell://ssh-remote%2Btony-3/home/CE/yifwang/discourse_factuality_evaluation/factuality/train.ipynb#W3sdnNjb2RlLXJlbW90ZQ%3D%3D?line=7'>8</a>\u001b[0m     )\n\u001b[1;32m      <a href='vscode-notebook-cell://ssh-remote%2Btony-3/home/CE/yifwang/discourse_factuality_evaluation/factuality/train.ipynb#W3sdnNjb2RlLXJlbW90ZQ%3D%3D?line=8'>9</a>\u001b[0m train_dataloader \u001b[39m=\u001b[39m DataLoader(train_dataset, batch_size\u001b[39m=\u001b[39m\u001b[39m8\u001b[39m, shuffle\u001b[39m=\u001b[39m\u001b[39mTrue\u001b[39;00m)\n\u001b[0;32m---> <a href='vscode-notebook-cell://ssh-remote%2Btony-3/home/CE/yifwang/discourse_factuality_evaluation/factuality/train.ipynb#W3sdnNjb2RlLXJlbW90ZQ%3D%3D?line=9'>10</a>\u001b[0m train(model, train_dataloader, optimizer, lr_scheduler\u001b[39m=\u001b[39;49mlr_scheduler, loss_fn\u001b[39m=\u001b[39;49mloss_fn, epochs\u001b[39m=\u001b[39;49m\u001b[39m50\u001b[39;49m, eval_steps\u001b[39m=\u001b[39;49m\u001b[39m5\u001b[39;49m)\n",
      "\u001b[1;32m/home/CE/yifwang/discourse_factuality_evaluation/factuality/train.ipynb Cell 4\u001b[0m in \u001b[0;36mtrain\u001b[0;34m(model, train_dataloader, optimizer, lr_scheduler, loss_fn, epochs, eval_steps)\u001b[0m\n\u001b[1;32m     <a href='vscode-notebook-cell://ssh-remote%2Btony-3/home/CE/yifwang/discourse_factuality_evaluation/factuality/train.ipynb#W3sdnNjb2RlLXJlbW90ZQ%3D%3D?line=34'>35</a>\u001b[0m     \u001b[39mcontinue\u001b[39;00m\n\u001b[1;32m     <a href='vscode-notebook-cell://ssh-remote%2Btony-3/home/CE/yifwang/discourse_factuality_evaluation/factuality/train.ipynb#W3sdnNjb2RlLXJlbW90ZQ%3D%3D?line=35'>36</a>\u001b[0m step  \u001b[39m+\u001b[39m\u001b[39m=\u001b[39m  \u001b[39m1\u001b[39m\n\u001b[0;32m---> <a href='vscode-notebook-cell://ssh-remote%2Btony-3/home/CE/yifwang/discourse_factuality_evaluation/factuality/train.ipynb#W3sdnNjb2RlLXJlbW90ZQ%3D%3D?line=37'>38</a>\u001b[0m loss\u001b[39m.\u001b[39;49mbackward()\n\u001b[1;32m     <a href='vscode-notebook-cell://ssh-remote%2Btony-3/home/CE/yifwang/discourse_factuality_evaluation/factuality/train.ipynb#W3sdnNjb2RlLXJlbW90ZQ%3D%3D?line=38'>39</a>\u001b[0m optimizer\u001b[39m.\u001b[39mstep()\n\u001b[1;32m     <a href='vscode-notebook-cell://ssh-remote%2Btony-3/home/CE/yifwang/discourse_factuality_evaluation/factuality/train.ipynb#W3sdnNjb2RlLXJlbW90ZQ%3D%3D?line=39'>40</a>\u001b[0m lr_scheduler\u001b[39m.\u001b[39mstep()\n",
      "File \u001b[0;32m~/anaconda3/envs/dae/lib/python3.8/site-packages/torch/_tensor.py:487\u001b[0m, in \u001b[0;36mTensor.backward\u001b[0;34m(self, gradient, retain_graph, create_graph, inputs)\u001b[0m\n\u001b[1;32m    477\u001b[0m \u001b[39mif\u001b[39;00m has_torch_function_unary(\u001b[39mself\u001b[39m):\n\u001b[1;32m    478\u001b[0m     \u001b[39mreturn\u001b[39;00m handle_torch_function(\n\u001b[1;32m    479\u001b[0m         Tensor\u001b[39m.\u001b[39mbackward,\n\u001b[1;32m    480\u001b[0m         (\u001b[39mself\u001b[39m,),\n\u001b[0;32m   (...)\u001b[0m\n\u001b[1;32m    485\u001b[0m         inputs\u001b[39m=\u001b[39minputs,\n\u001b[1;32m    486\u001b[0m     )\n\u001b[0;32m--> 487\u001b[0m torch\u001b[39m.\u001b[39;49mautograd\u001b[39m.\u001b[39;49mbackward(\n\u001b[1;32m    488\u001b[0m     \u001b[39mself\u001b[39;49m, gradient, retain_graph, create_graph, inputs\u001b[39m=\u001b[39;49minputs\n\u001b[1;32m    489\u001b[0m )\n",
      "File \u001b[0;32m~/anaconda3/envs/dae/lib/python3.8/site-packages/torch/autograd/__init__.py:200\u001b[0m, in \u001b[0;36mbackward\u001b[0;34m(tensors, grad_tensors, retain_graph, create_graph, grad_variables, inputs)\u001b[0m\n\u001b[1;32m    195\u001b[0m     retain_graph \u001b[39m=\u001b[39m create_graph\n\u001b[1;32m    197\u001b[0m \u001b[39m# The reason we repeat same the comment below is that\u001b[39;00m\n\u001b[1;32m    198\u001b[0m \u001b[39m# some Python versions print out the first line of a multi-line function\u001b[39;00m\n\u001b[1;32m    199\u001b[0m \u001b[39m# calls in the traceback and some print out the last line\u001b[39;00m\n\u001b[0;32m--> 200\u001b[0m Variable\u001b[39m.\u001b[39;49m_execution_engine\u001b[39m.\u001b[39;49mrun_backward(  \u001b[39m# Calls into the C++ engine to run the backward pass\u001b[39;49;00m\n\u001b[1;32m    201\u001b[0m     tensors, grad_tensors_, retain_graph, create_graph, inputs,\n\u001b[1;32m    202\u001b[0m     allow_unreachable\u001b[39m=\u001b[39;49m\u001b[39mTrue\u001b[39;49;00m, accumulate_grad\u001b[39m=\u001b[39;49m\u001b[39mTrue\u001b[39;49;00m)\n",
      "\u001b[0;31mKeyboardInterrupt\u001b[0m: "
     ]
    }
   ],
   "source": [
    "\n",
    "\n",
    "optimizer = AdamW(model.parameters(), lr=2e-5)\n",
    "loss_fn = nn.CrossEntropyLoss()\n",
    "from torch.utils.data import DataLoader\n",
    "\n",
    "\n",
    "lr_scheduler = get_scheduler(\n",
    "        name=\"linear\", optimizer=optimizer, num_warmup_steps=500, num_training_steps=5 * len(train_dataset)\n",
    "    )\n",
    "train_dataloader = DataLoader(train_dataset, batch_size=8, shuffle=True)\n",
    "train(model, train_dataloader, optimizer, lr_scheduler=lr_scheduler, loss_fn=loss_fn, epochs=50, eval_steps=5)"
   ]
  }
 ],
 "metadata": {
  "kernelspec": {
   "display_name": "dae",
   "language": "python",
   "name": "python3"
  },
  "language_info": {
   "codemirror_mode": {
    "name": "ipython",
    "version": 3
   },
   "file_extension": ".py",
   "mimetype": "text/x-python",
   "name": "python",
   "nbconvert_exporter": "python",
   "pygments_lexer": "ipython3",
   "version": "3.8.5"
  },
  "orig_nbformat": 4
 },
 "nbformat": 4,
 "nbformat_minor": 2
}
